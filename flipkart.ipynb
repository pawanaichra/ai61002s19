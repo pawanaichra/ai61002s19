{
  "nbformat": 4,
  "nbformat_minor": 0,
  "metadata": {
    "colab": {
      "name": "convnet.ipynb",
      "version": "0.3.2",
      "provenance": [],
      "include_colab_link": true
    },
    "kernelspec": {
      "name": "python3",
      "display_name": "Python 3"
    },
    "accelerator": "GPU"
  },
  "cells": [
    {
      "cell_type": "markdown",
      "metadata": {
        "id": "view-in-github",
        "colab_type": "text"
      },
      "source": [
        "<a href=\"https://colab.research.google.com/github/pawanaichra/ai61002s19/blob/master/flipkart.ipynb\" target=\"_parent\"><img src=\"https://colab.research.google.com/assets/colab-badge.svg\" alt=\"Open In Colab\"/></a>"
      ]
    },
    {
      "metadata": {
        "id": "9CURl2kOuZuP",
        "colab_type": "code",
        "outputId": "4444369a-e3ba-4604-f928-4f337e384f23",
        "colab": {
          "base_uri": "https://localhost:8080/",
          "height": 34
        }
      },
      "cell_type": "code",
      "source": [
        "from google.colab import drive\n",
        "drive.mount('/content/drive/')"
      ],
      "execution_count": 120,
      "outputs": [
        {
          "output_type": "stream",
          "text": [
            "Drive already mounted at /content/drive/; to attempt to forcibly remount, call drive.mount(\"/content/drive/\", force_remount=True).\n"
          ],
          "name": "stdout"
        }
      ]
    },
    {
      "metadata": {
        "id": "CRx2hRkZK1N8",
        "colab_type": "code",
        "colab": {}
      },
      "cell_type": "code",
      "source": [
        "%matplotlib inline\n",
        "import torch\n",
        "import os\n",
        "import tempfile\n",
        "import torch.nn as nn\n",
        "import torch.nn.functional as F\n",
        "import numpy as np\n",
        "import torchvision\n",
        "import torch.optim as optim\n",
        "from torch.autograd import Variable\n",
        "import matplotlib.pyplot as plt\n",
        "import matplotlib.image as mpimg\n",
        "import matplotlib.animation as animation\n",
        "path = \"/content/drive/My Drive/\"\n",
        "torch.set_default_tensor_type('torch.DoubleTensor')"
      ],
      "execution_count": 0,
      "outputs": []
    },
    {
      "metadata": {
        "id": "0igSOPLUdFBN",
        "colab_type": "code",
        "colab": {}
      },
      "cell_type": "code",
      "source": [
        "import pandas as pd\n",
        "from sklearn.model_selection import train_test_split\n",
        "df = pd.read_csv(path+'flip/training.csv')\n",
        "train, _ = train_test_split(df, test_size = 13.5/14)\n",
        "train, test = train_test_split(train, test_size=7/14)\n",
        "BatchSize = 3"
      ],
      "execution_count": 0,
      "outputs": []
    },
    {
      "metadata": {
        "id": "5NyAtTjIgDdR",
        "colab_type": "code",
        "colab": {}
      },
      "cell_type": "code",
      "source": [
        "image_set = []\n",
        "label_set = []\n",
        "for index, data in train.iterrows():\n",
        "  path1 = path+'images/'+ data[\"image_name\"]\n",
        "  if os.path.exists(path1):\n",
        "    try:\n",
        "      image = mpimg.imread(path1)\n",
        "      image = np.dot(image[...,:3], [0.299, 0.587, 0.114])\n",
        "      image = (image-image.min())/(image.max()-image.min())\n",
        "      image=image.reshape(1,640, 480)\n",
        "      labels = np.array([data[\"x1\"], data[\"y1\"], data[\"x2\"], data[\"y2\"]])\n",
        "      labels=labels.reshape(4)\n",
        "      image_set.append(image)\n",
        "      label_set.append(labels)\n",
        "    except:\n",
        "      pass\n",
        "image_set = np.array(image_set)\n",
        "label_set = np.array(label_set)\n",
        "inputs=torch.from_numpy(image_set).type(torch.DoubleTensor)\n",
        "labels=torch.from_numpy(label_set).type(torch.DoubleTensor)\n",
        "train_set=torch.utils.data.TensorDataset(inputs, labels)\n",
        "train_set = torch.utils.data.DataLoader(train_set, batch_size=3, shuffle=True, num_workers=2)"
      ],
      "execution_count": 0,
      "outputs": []
    },
    {
      "metadata": {
        "id": "0iFgl7noN9e9",
        "colab_type": "code",
        "colab": {}
      },
      "cell_type": "code",
      "source": [
        "# torch.save(inputs, path+\"inputs.pt\")\n",
        "# torch.save(labels, path+\"labels.pt\")"
      ],
      "execution_count": 0,
      "outputs": []
    },
    {
      "metadata": {
        "id": "XsfBFAlxdlUZ",
        "colab_type": "code",
        "colab": {}
      },
      "cell_type": "code",
      "source": [
        "image_set = []\n",
        "label_set = []\n",
        "for index, data in test.iterrows():\n",
        "  path1 = path+'images/'+ data[\"image_name\"]\n",
        "  if os.path.exists(path1):\n",
        "    image = mpimg.imread(path1)\n",
        "    image = np.dot(image[...,:3], [0.299, 0.587, 0.114])\n",
        "    image = (image-image.min())/(image.max()-image.min())\n",
        "    image=image.reshape(1,640, 480)\n",
        "    labels = np.array([data[\"x1\"], data[\"y1\"], data[\"x2\"], data[\"y2\"]])\n",
        "#     labels=labels.reshape(1,4)\n",
        "    image_set.append(image)\n",
        "    label_set.append(labels)\n",
        "image_set = np.array(image_set)\n",
        "label_set = np.array(label_set)\n",
        "inputs=torch.from_numpy(image_set).type(torch.DoubleTensor)\n",
        "labels=torch.from_numpy(label_set).type(torch.DoubleTensor)\n",
        "test_set=torch.utils.data.TensorDataset(inputs, labels)\n",
        "test_set = torch.utils.data.DataLoader(test_set, batch_size=BatchSize, shuffle=True, num_workers=4)"
      ],
      "execution_count": 0,
      "outputs": []
    },
    {
      "metadata": {
        "id": "Yq5QmHxRMFLd",
        "colab_type": "code",
        "colab": {}
      },
      "cell_type": "code",
      "source": [
        "#imge size 640*480\n",
        "class convnet(nn.Module):\n",
        "    def __init__(self):\n",
        "        super(convnet, self).__init__()\n",
        "        self.conv1 = nn.Conv2d(1, 4, kernel_size=5)\n",
        "        self.pool1 = nn.MaxPool2d(kernel_size=3,stride=3)\n",
        "        self.conv2 = nn.Conv2d(4, 8, kernel_size=5)\n",
        "        self.pool2 = nn.MaxPool2d(kernel_size=3,stride=3)   \n",
        "        self.conv3 = nn.Conv2d(8, 16, kernel_size=5)\n",
        "        self.pool3 = nn.MaxPool2d(kernel_size=3,stride=3) \n",
        "        self.fc1 = nn.Linear(5040, 1000)\n",
        "        self.fc2 = nn.Linear(1000, 84)\n",
        "        self.fc3 = nn.Linear(84, 4)\n",
        "\n",
        "    def forward(self, x):\n",
        "        x = F.relu(self.conv1(x))\n",
        "        x = self.pool1(x)\n",
        "        x = F.relu(self.conv2(x))\n",
        "        x = self.pool2(x)\n",
        "        x = F.relu(self.conv3(x))\n",
        "        x = self.pool3(x)      \n",
        "        x = x.view(-1, 5040)\n",
        "        x = F.relu(self.fc1(x)) \n",
        "        x = F.relu(self.fc2(x))\n",
        "        x = self.sigmoid(self.fc3(x))\n",
        "        m = torch.tensor([640, 480, 640, 480]).type(torch.DoubleTensor).cuda()\n",
        "        return x*m\n",
        "    def sigmoid(self, z):\n",
        "        return 1/(1+torch.exp(-z))"
      ],
      "execution_count": 0,
      "outputs": []
    },
    {
      "metadata": {
        "id": "YTMZl7DRPG9z",
        "colab_type": "code",
        "outputId": "5af8fac6-ffef-4eeb-b54c-f502a762dc24",
        "colab": {
          "base_uri": "https://localhost:8080/",
          "height": 34
        }
      },
      "cell_type": "code",
      "source": [
        "net = convnet()\n",
        "use_gpu = torch.cuda.is_available()\n",
        "if use_gpu:\n",
        "    print('GPU is available!')   \n",
        "    net = net.cuda()"
      ],
      "execution_count": 179,
      "outputs": [
        {
          "output_type": "stream",
          "text": [
            "GPU is available!\n"
          ],
          "name": "stdout"
        }
      ]
    },
    {
      "metadata": {
        "id": "ONycnnoWS9O2",
        "colab_type": "code",
        "colab": {}
      },
      "cell_type": "code",
      "source": [
        "optimizer = optim.Adam(net.parameters(), lr=0.001)\n",
        "def iou(box_a, box_b):\n",
        "  A = box_a.size(0)\n",
        "  B = box_b.size(0)\n",
        "  max_xy = torch.min(box_a[:, 2:].unsqueeze(1).expand(A, B, 2),\n",
        "                       box_b[:, 2:].unsqueeze(0).expand(A, B, 2))\n",
        "  min_xy = torch.max(box_a[:, :2].unsqueeze(1).expand(A, B, 2),\n",
        "                       box_b[:, :2].unsqueeze(0).expand(A, B, 2))\n",
        "  inter = torch.clamp((max_xy - min_xy), min=0)\n",
        "  inter =inter[:, :, 0] * inter[:, :, 1]\n",
        "  area_a = ((box_a[:, 2]-box_a[:, 0]) *\n",
        "              (box_a[:, 3]-box_a[:, 1])).unsqueeze(1).expand_as(inter)\n",
        "  area_b = ((box_b[:, 2]-box_b[:, 0]) *\n",
        "              (box_b[:, 3]-box_b[:, 1])).unsqueeze(0).expand_as(inter)\n",
        "  union = area_a + area_b - inter\n",
        "  return ((inter / union)*50/float(A)).sum()\n",
        "\n",
        "def criterion(output, labels):\n",
        "  return (100-iou(output, labels))\n",
        "# criterion = nn.MSELoss()\n"
      ],
      "execution_count": 0,
      "outputs": []
    },
    {
      "metadata": {
        "id": "gnKA1EWKTV0-",
        "colab_type": "code",
        "outputId": "4182dfab-b01e-47f3-c220-9136a3ecc07f",
        "colab": {
          "base_uri": "https://localhost:8080/",
          "height": 513
        }
      },
      "cell_type": "code",
      "source": [
        "iterations =5\n",
        "trainLoss = []\n",
        "testAcc = []\n",
        "\n",
        "import pylab as pl\n",
        "from IPython import display\n",
        "fig=plt.figure()\n",
        "ax=fig.add_subplot(111)\n",
        "ax.set_xlim(0,iterations)\n",
        "\n",
        "\n",
        "for epoch in range(iterations):\n",
        "    runningLoss = 0 \n",
        "    count=0\n",
        "    net.train(True)\n",
        "    for data in train_set:\n",
        "      inputs, labels = data\n",
        "      if use_gpu:\n",
        "          inputs = Variable(inputs.cuda())\n",
        "          labels = Variable(labels.cuda())\n",
        "          labels = labels.cuda()\n",
        "      else:\n",
        "          inputs = Variable(inputs)\n",
        "          labels = Variable(labels) \n",
        "      optimizer.zero_grad()   \n",
        "      outputs = net(inputs)\n",
        "      loss = criterion(outputs, labels)\n",
        "      loss.backward()\n",
        "      optimizer.step()\n",
        "      runningLoss += loss.data.item()\n",
        "      count+=1\n",
        "#     with tempfile.NamedTemporaryFile(dir = path+\"flip/weight/\", delete = False) as f:\n",
        "#       torch.save(net.state_dict(), f)    \n",
        "    avgTrainLoss = runningLoss/count\n",
        "    trainLoss.append(avgTrainLoss)\n",
        "    ax.plot(range(len(trainLoss)),trainLoss,'r-',label='Training')\n",
        "    display.clear_output(wait=True)\n",
        "    display.display(pl.gcf())\n",
        "    \n",
        "    \n",
        "    with torch.no_grad():\n",
        "        running_correct = 0\n",
        "        count1=0\n",
        "        for data in test_set:\n",
        "            inputs, labels = data\n",
        "            if use_gpu:\n",
        "                inputs = Variable(inputs.cuda()) \n",
        "                labels = labels.type(torch.DoubleTensor).cuda()\n",
        "            else:\n",
        "                inputs = Variable(inputs)\n",
        "            outputs = net(inputs)\n",
        "            running_correct += iou(outputs,labels).item()\n",
        "            count1+=1\n",
        "        avgTestAcc = float(running_correct)/count1\n",
        "        testAcc.append(avgTestAcc)\n",
        "        ax.plot(range(len(testAcc)),testAcc,'g-',label='Training')\n",
        "        display.clear_output(wait=True)\n",
        "        display.display(pl.gcf())\n",
        "        \n"
      ],
      "execution_count": 194,
      "outputs": [
        {
          "output_type": "display_data",
          "data": {
            "image/png": "[encoded data removed]",
            "text/plain": [
              "<Figure size 432x288 with 1 Axes>"
            ]
          },
          "metadata": {
            "tags": []
          }
        },
        {
          "output_type": "display_data",
          "data": {
            "image/png": "[encoded data removed]",
            "text/plain": [
              "<Figure size 432x288 with 1 Axes>"
            ]
          },
          "metadata": {
            "tags": []
          }
        }
      ]
    },
    {
      "metadata": {
        "id": "5Qm84COzYjVT",
        "colab_type": "code",
        "colab": {
          "base_uri": "https://localhost:8080/",
          "height": 34
        },
        "outputId": "d1c2a867-be69-4367-bc6f-67a4bb67ed95"
      },
      "cell_type": "code",
      "source": [
        "avgTestAcc"
      ],
      "execution_count": 171,
      "outputs": [
        {
          "output_type": "execute_result",
          "data": {
            "text/plain": [
              "0.0"
            ]
          },
          "metadata": {
            "tags": []
          },
          "execution_count": 171
        }
      ]
    },
    {
      "metadata": {
        "id": "_HEzNFzBgpqh",
        "colab_type": "code",
        "colab": {}
      },
      "cell_type": "code",
      "source": [
        "predict_set = pd.read_csv(path+'flip/test.csv')\n",
        "import csv\n",
        "f = open(path+\"flip/out.csv\", \"w\")\n",
        "writer = csv.writer(f)\n",
        "row = []\n",
        "row.append(\"image_name\",\"x1\",\t\"x2\",\t\"y1\",\t\"y2\")\n",
        "with torch.no_grad():\n",
        "    for index, data in predict_set.iterrows():\n",
        "      try:\n",
        "        path1 = path+'images/'+ data[\"image_name\"]\n",
        "        image = mpimg.imread(path1)\n",
        "        image = np.dot(image[...,:3], [0.299, 0.587, 0.114])\n",
        "        image = (image-image.min())/(image.max()-image.min())\n",
        "        image=image.reshape(1,1,640, 480)\n",
        "        inputs=torch.from_numpy(image)\n",
        "        if use_gpu:\n",
        "            inputs = Variable(inputs.cuda())\n",
        "        else:\n",
        "            inputs = Variable(inputs)\n",
        "        outputs = net(inputs)\n",
        "        row.append([data[\"image_name\"], outputs[0][0].item(), outputs[0][2].item(), outputs[0][1].item(), outputs[0][3].item()])\n",
        "      except:\n",
        "        row.append([data[\"image_name\"], 192, 448, 144, 336])\n",
        "writer.writerows(row)\n",
        "f.close()"
      ],
      "execution_count": 0,
      "outputs": []
    },
    {
      "metadata": {
        "id": "xQGHEr1In9ZQ",
        "colab_type": "code",
        "outputId": "385bac56-7d91-4ae9-d1f6-c1d488b6a8f7",
        "colab": {
          "base_uri": "https://localhost:8080/",
          "height": 204
        }
      },
      "cell_type": "code",
      "source": [
        "model=convnet().cuda()\n",
        "model.load_state_dict(torch.load(path+\"flip/weight/tmpyvap3cls\"))\n",
        "model.eval()"
      ],
      "execution_count": 0,
      "outputs": [
        {
          "output_type": "execute_result",
          "data": {
            "text/plain": [
              "convnet(\n",
              "  (conv1): Conv2d(1, 4, kernel_size=(5, 5), stride=(1, 1))\n",
              "  (pool1): MaxPool2d(kernel_size=3, stride=3, padding=0, dilation=1, ceil_mode=False)\n",
              "  (conv2): Conv2d(4, 8, kernel_size=(5, 5), stride=(1, 1))\n",
              "  (pool2): MaxPool2d(kernel_size=3, stride=3, padding=0, dilation=1, ceil_mode=False)\n",
              "  (conv3): Conv2d(8, 16, kernel_size=(5, 5), stride=(1, 1))\n",
              "  (pool3): MaxPool2d(kernel_size=3, stride=3, padding=0, dilation=1, ceil_mode=False)\n",
              "  (fc1): Linear(in_features=5040, out_features=1000, bias=True)\n",
              "  (fc2): Linear(in_features=1000, out_features=84, bias=True)\n",
              "  (fc3): Linear(in_features=84, out_features=4, bias=True)\n",
              ")"
            ]
          },
          "metadata": {
            "tags": []
          },
          "execution_count": 31
        }
      ]
    },
    {
      "metadata": {
        "id": "KfoTIILT5cBi",
        "colab_type": "code",
        "outputId": "a739397b-229f-4282-8448-b7d8f524379a",
        "colab": {
          "base_uri": "https://localhost:8080/",
          "height": 34
        }
      },
      "cell_type": "code",
      "source": [
        "a = torch.tensor([[0, 0, 1, 1],\n",
        "        [0, 0, 2, 2]]).type(torch.DoubleTensor).cuda()\n",
        "b = torch.tensor([[0, 0, 2, 2],\n",
        "        [0, 0, 2, 2]]).type(torch.DoubleTensor).cuda()\n",
        "\n",
        "def iou(box_a, box_b):\n",
        "  A = box_a.size(0)\n",
        "  B = box_b.size(0)\n",
        "  max_xy = torch.min(box_a[:, 2:].unsqueeze(1).expand(A, B, 2),\n",
        "                       box_b[:, 2:].unsqueeze(0).expand(A, B, 2))\n",
        "  min_xy = torch.max(box_a[:, :2].unsqueeze(1).expand(A, B, 2),\n",
        "                       box_b[:, :2].unsqueeze(0).expand(A, B, 2))\n",
        "  inter = torch.clamp((max_xy - min_xy), min=0)\n",
        "  inter =inter[:, :, 0] * inter[:, :, 1]\n",
        "  area_a = ((box_a[:, 2]-box_a[:, 0]) *\n",
        "              (box_a[:, 3]-box_a[:, 1])).unsqueeze(1).expand_as(inter)\n",
        "  area_b = ((box_b[:, 2]-box_b[:, 0]) *\n",
        "              (box_b[:, 3]-box_b[:, 1])).unsqueeze(0).expand_as(inter)\n",
        "  union = area_a + area_b - inter\n",
        "  return ((inter / union)*50).sum()\n",
        "iou(a,b)"
      ],
      "execution_count": 0,
      "outputs": [
        {
          "output_type": "execute_result",
          "data": {
            "text/plain": [
              "tensor(125., device='cuda:0')"
            ]
          },
          "metadata": {
            "tags": []
          },
          "execution_count": 48
        }
      ]
    },
    {
      "metadata": {
        "id": "U-aTZZM-f993",
        "colab_type": "code",
        "colab": {
          "base_uri": "https://localhost:8080/",
          "height": 513
        },
        "outputId": "121a19bc-5ae0-4c1a-d7bd-8805c7e9a2be"
      },
      "cell_type": "code",
      "source": [
        "\n",
        "\n",
        "import pylab as pl\n",
        "from IPython import display\n",
        "fig=pl.figure(1)\n",
        "ax=fig.add_subplot(111)\n",
        "ax.set_xlim(0,iterations)\n",
        "testAcc = [10,13]\n",
        "ax.plot(range(len(testAcc)),testAcc,'g-',label='Training')\n",
        "display.clear_output(wait=True)\n",
        "display.display(pl.gcf())"
      ],
      "execution_count": 192,
      "outputs": [
        {
          "output_type": "display_data",
          "data": {
            "image/png": "[encoded data removed]",
            "text/plain": [
              "<Figure size 432x288 with 1 Axes>"
            ]
          },
          "metadata": {
            "tags": []
          }
        },
        {
          "output_type": "display_data",
          "data": {
            "image/png": "[encoded data removed]",
            "text/plain": [
              "<Figure size 432x288 with 1 Axes>"
            ]
          },
          "metadata": {
            "tags": []
          }
        }
      ]
    }
  ]
}